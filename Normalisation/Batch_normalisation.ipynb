{
  "cells": [
    {
      "cell_type": "markdown",
      "metadata": {
        "id": "view-in-github",
        "colab_type": "text"
      },
      "source": [
        "<a href=\"https://colab.research.google.com/github/Edward-Z-Ni/DeepLearning/blob/main/Normalisation/Batch_normalisation.ipynb\" target=\"_parent\"><img src=\"https://colab.research.google.com/assets/colab-badge.svg\" alt=\"Open In Colab\"/></a>"
      ]
    },
    {
      "cell_type": "markdown",
      "metadata": {
        "id": "mpiCCKSIxYpl"
      },
      "source": [
        "# Batch normalisation layers\n",
        "\n",
        "In this reading we will look at incorporating batch normalisation into our models and look at an example of how we do this in practice.\n",
        "\n",
        "As usual, let's first import tensorflow."
      ]
    },
    {
      "cell_type": "code",
      "execution_count": 1,
      "metadata": {
        "colab": {
          "base_uri": "https://localhost:8080/"
        },
        "id": "xAvwDJP2xYpq",
        "outputId": "1f544492-017c-4cc3-f1bf-89e9051d5505"
      },
      "outputs": [
        {
          "output_type": "stream",
          "name": "stdout",
          "text": [
            "2.9.2\n"
          ]
        }
      ],
      "source": [
        "import tensorflow as tf\n",
        "print(tf.__version__)"
      ]
    },
    {
      "cell_type": "markdown",
      "metadata": {
        "id": "cbgNcssJxYpr"
      },
      "source": [
        "We will be working with the diabetes dataset that we have been using in this week's screencasts. \n",
        "\n",
        "Let's load and pre-process the dataset."
      ]
    },
    {
      "cell_type": "code",
      "execution_count": 2,
      "metadata": {
        "id": "BDeAov53xYps"
      },
      "outputs": [],
      "source": [
        "# Load the dataset\n",
        "\n",
        "from sklearn.datasets import load_diabetes\n",
        "diabetes_dataset = load_diabetes()"
      ]
    },
    {
      "cell_type": "code",
      "execution_count": 3,
      "metadata": {
        "id": "DWVdrgENxYps"
      },
      "outputs": [],
      "source": [
        "# Save the input and target variables\n",
        "\n",
        "from sklearn.model_selection import train_test_split\n",
        "\n",
        "data = diabetes_dataset['data']\n",
        "targets = diabetes_dataset['target']"
      ]
    },
    {
      "cell_type": "code",
      "execution_count": 4,
      "metadata": {
        "id": "vd_UzByXxYpt"
      },
      "outputs": [],
      "source": [
        "# Normalise the target data (this will make clearer training curves)\n",
        "\n",
        "targets = (targets - targets.mean(axis=0)) / (targets.std())"
      ]
    },
    {
      "cell_type": "code",
      "execution_count": 5,
      "metadata": {
        "id": "yKBg9EfhxYpt"
      },
      "outputs": [],
      "source": [
        "# Split the dataset into training and test datasets \n",
        "\n",
        "train_data, test_data, train_targets, test_targets = train_test_split(data, targets, test_size=0.1)"
      ]
    },
    {
      "cell_type": "markdown",
      "metadata": {
        "id": "wL2FwE2vxYpu"
      },
      "source": [
        "### Batch normalisation - Defining the model"
      ]
    },
    {
      "cell_type": "markdown",
      "metadata": {
        "id": "Ton_JjWZxYpu"
      },
      "source": [
        "We can implement batch normalisation into our model by adding it in the same way as any other layer."
      ]
    },
    {
      "cell_type": "code",
      "execution_count": 6,
      "metadata": {
        "id": "1z0n75ImxYpv"
      },
      "outputs": [],
      "source": [
        "from tensorflow.keras.models import Sequential\n",
        "from tensorflow.keras.layers import Flatten, Dense, Conv2D, MaxPooling2D, BatchNormalization, Dropout"
      ]
    },
    {
      "cell_type": "code",
      "execution_count": 7,
      "metadata": {
        "id": "3ZP7lta0xYpv"
      },
      "outputs": [],
      "source": [
        "# Build the model\n",
        "\n",
        "model = Sequential([\n",
        "    Dense(64, input_shape=[train_data.shape[1],], activation=\"relu\"),\n",
        "    BatchNormalization(),  # <- Batch normalisation layer\n",
        "    Dropout(0.5),\n",
        "    BatchNormalization(),  # <- Batch normalisation layer\n",
        "    Dropout(0.5),\n",
        "    Dense(256, activation='relu'),\n",
        "])\n",
        "\n",
        "# NB: We have not added the output layer because we still have more layers to add!"
      ]
    },
    {
      "cell_type": "code",
      "execution_count": 11,
      "metadata": {
        "scrolled": true,
        "colab": {
          "base_uri": "https://localhost:8080/"
        },
        "id": "of6vkNugxYpv",
        "outputId": "0a09819e-bbd3-445d-f173-8c9b14c0be1f"
      },
      "outputs": [
        {
          "output_type": "stream",
          "name": "stdout",
          "text": [
            "Model: \"sequential\"\n",
            "_________________________________________________________________\n",
            " Layer (type)                Output Shape              Param #   \n",
            "=================================================================\n",
            " dense (Dense)               (None, 64)                704       \n",
            "                                                                 \n",
            " batch_normalization (BatchN  (None, 64)               256       \n",
            " ormalization)                                                   \n",
            "                                                                 \n",
            " dropout (Dropout)           (None, 64)                0         \n",
            "                                                                 \n",
            " batch_normalization_1 (Batc  (None, 64)               256       \n",
            " hNormalization)                                                 \n",
            "                                                                 \n",
            " dropout_1 (Dropout)         (None, 64)                0         \n",
            "                                                                 \n",
            " dense_1 (Dense)             (None, 256)               16640     \n",
            "                                                                 \n",
            " batch_normalization_2 (Batc  (None, 256)              1024      \n",
            " hNormalization)                                                 \n",
            "                                                                 \n",
            " dense_2 (Dense)             (None, 1)                 257       \n",
            "                                                                 \n",
            "=================================================================\n",
            "Total params: 19,137\n",
            "Trainable params: 18,369\n",
            "Non-trainable params: 768\n",
            "_________________________________________________________________\n"
          ]
        }
      ],
      "source": [
        "# Print the model summary\n",
        "\n",
        "model.summary()"
      ]
    },
    {
      "cell_type": "markdown",
      "metadata": {
        "id": "VIqlSZFGxYpw"
      },
      "source": [
        "Recall that there are some parameters and hyperparameters associated with batch normalisation.\n",
        "\n",
        "* The hyperparameter **momentum** is the weighting given to the previous running mean when re-computing it with an extra minibatch. By **default**, it is set to 0.99.\n",
        "\n",
        "* The hyperparameter **$\\epsilon$** is used for numeric stability when performing the normalisation over the minibatch. By **default** it is set to 0.001.\n",
        "\n",
        "* The parameters **$\\beta$** and **$\\gamma$** are used to implement an affine transformation after normalisation. By **default**, $\\beta$ is an all-zeros vector, and $\\gamma$ is an all-ones vector.\n",
        "\n",
        "### Customising parameters\n",
        "These can all be changed (along with various other properties) by adding optional arguments to `tf.keras.layers.BatchNormalization()`.\n",
        "\n",
        "We can also specify the axis for batch normalisation. By default, it is set as -1.\n",
        "\n",
        "Let's see an example."
      ]
    },
    {
      "cell_type": "code",
      "execution_count": 9,
      "metadata": {
        "id": "N-jI7G9RxYpw"
      },
      "outputs": [],
      "source": [
        "# Add a customised batch normalisation layer\n",
        "\n",
        "model.add(tf.keras.layers.BatchNormalization(\n",
        "    momentum=0.95, \n",
        "    epsilon=0.005,\n",
        "    axis = -1,\n",
        "    beta_initializer=tf.keras.initializers.RandomNormal(mean=0.0, stddev=0.05), \n",
        "    gamma_initializer=tf.keras.initializers.Constant(value=0.9)\n",
        "))"
      ]
    },
    {
      "cell_type": "code",
      "execution_count": 10,
      "metadata": {
        "id": "sP1Q9JPdxYpw"
      },
      "outputs": [],
      "source": [
        "# Add the output layer\n",
        "\n",
        "model.add(Dense(1))"
      ]
    },
    {
      "cell_type": "markdown",
      "metadata": {
        "id": "2vuiHVwexYpx"
      },
      "source": [
        "## Compile and fit the model"
      ]
    },
    {
      "cell_type": "markdown",
      "metadata": {
        "id": "eVDL6OZ6xYpx"
      },
      "source": [
        "Let's now compile and fit our model with batch normalisation, and track the progress on training and validation sets.\n",
        "\n",
        "First we compile our model."
      ]
    },
    {
      "cell_type": "code",
      "execution_count": 12,
      "metadata": {
        "id": "eqeSaFIxxYpx"
      },
      "outputs": [],
      "source": [
        "# Compile the model\n",
        "\n",
        "model.compile(optimizer='adam',\n",
        "              loss='mse',\n",
        "              metrics=['mae'])"
      ]
    },
    {
      "cell_type": "markdown",
      "metadata": {
        "id": "9tPjsiZUxYpx"
      },
      "source": [
        "Now we fit the model to the data."
      ]
    },
    {
      "cell_type": "code",
      "execution_count": 13,
      "metadata": {
        "id": "_hInBl9BxYpx"
      },
      "outputs": [],
      "source": [
        "# Train the model\n",
        "\n",
        "history = model.fit(train_data, train_targets, epochs=100, validation_split=0.15, batch_size=64,verbose=False)"
      ]
    },
    {
      "cell_type": "markdown",
      "metadata": {
        "id": "V375LCzMxYpy"
      },
      "source": [
        "Finally, we plot training and validation loss and accuracy to observe how the accuracy of our model improves over time."
      ]
    },
    {
      "cell_type": "code",
      "execution_count": 14,
      "metadata": {
        "colab": {
          "base_uri": "https://localhost:8080/",
          "height": 312
        },
        "id": "1MRKvYB8xYpy",
        "outputId": "946cffea-bceb-4345-a177-cd10edf11cb1"
      },
      "outputs": [
        {
          "output_type": "execute_result",
          "data": {
            "text/plain": [
              "<matplotlib.legend.Legend at 0x7f58d1fb1610>"
            ]
          },
          "metadata": {},
          "execution_count": 14
        },
        {
          "output_type": "display_data",
          "data": {
            "text/plain": [
              "<Figure size 864x288 with 2 Axes>"
            ],
            "image/png": "[encoded data removed]"
          },
          "metadata": {
            "needs_background": "light"
          }
        }
      ],
      "source": [
        "# Plot the learning curves\n",
        "\n",
        "import pandas as pd\n",
        "import numpy as np\n",
        "import matplotlib.pyplot as plt\n",
        "%matplotlib inline\n",
        "\n",
        "frame = pd.DataFrame(history.history)\n",
        "epochs = np.arange(len(frame))\n",
        "\n",
        "fig = plt.figure(figsize=(12,4))\n",
        "\n",
        "# Loss plot\n",
        "ax = fig.add_subplot(121)\n",
        "ax.plot(epochs, frame['loss'], label=\"Train\")\n",
        "ax.plot(epochs, frame['val_loss'], label=\"Validation\")\n",
        "ax.set_xlabel(\"Epochs\")\n",
        "ax.set_ylabel(\"Loss\")\n",
        "ax.set_title(\"Loss vs Epochs\")\n",
        "ax.legend()\n",
        "\n",
        "# Accuracy plot\n",
        "ax = fig.add_subplot(122)\n",
        "ax.plot(epochs, frame['mae'], label=\"Train\")\n",
        "ax.plot(epochs, frame['val_mae'], label=\"Validation\")\n",
        "ax.set_xlabel(\"Epochs\")\n",
        "ax.set_ylabel(\"Mean Absolute Error\")\n",
        "ax.set_title(\"Mean Absolute Error vs Epochs\")\n",
        "ax.legend()"
      ]
    },
    {
      "cell_type": "markdown",
      "metadata": {
        "id": "HLl_lScWxYpy"
      },
      "source": [
        "## Further reading and resources \n",
        "* https://keras.io/layers/normalization/\n",
        "* https://www.tensorflow.org/versions/r2.0/api_docs/python/tf/keras/layers/BatchNormalization"
      ]
    }
  ],
  "metadata": {
    "kernelspec": {
      "display_name": "Python 3",
      "language": "python",
      "name": "python3"
    },
    "language_info": {
      "codemirror_mode": {
        "name": "ipython",
        "version": 3
      },
      "file_extension": ".py",
      "mimetype": "text/x-python",
      "name": "python",
      "nbconvert_exporter": "python",
      "pygments_lexer": "ipython3",
      "version": "3.7.1"
    },
    "colab": {
      "provenance": [],
      "include_colab_link": true
    }
  },
  "nbformat": 4,
  "nbformat_minor": 0
}