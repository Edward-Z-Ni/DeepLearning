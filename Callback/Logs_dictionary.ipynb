{
  "cells": [
    {
      "cell_type": "markdown",
      "metadata": {
        "id": "view-in-github",
        "colab_type": "text"
      },
      "source": [
        "<a href=\"https://colab.research.google.com/github/Edward-Z-Ni/DeepLearning/blob/main/Callback/Logs_dictionary.ipynb\" target=\"_parent\"><img src=\"https://colab.research.google.com/assets/colab-badge.svg\" alt=\"Open In Colab\"/></a>"
      ]
    },
    {
      "cell_type": "markdown",
      "metadata": {
        "id": "KV7YjcS47f0Z"
      },
      "source": [
        "# Using the logs dictionary\n",
        "\n",
        "In this reading, we will learn how to take advantage of the `logs` dictionary in Keras to define our own callbacks and check the progress of a model."
      ]
    },
    {
      "cell_type": "code",
      "execution_count": 1,
      "metadata": {
        "colab": {
          "base_uri": "https://localhost:8080/"
        },
        "id": "1_9LZL4W7f0i",
        "outputId": "2506f64c-285a-4250-a933-90d3feb901c4"
      },
      "outputs": [
        {
          "output_type": "stream",
          "name": "stdout",
          "text": [
            "2.9.2\n"
          ]
        }
      ],
      "source": [
        "import tensorflow as tf\n",
        "print(tf.__version__)"
      ]
    },
    {
      "cell_type": "markdown",
      "metadata": {
        "id": "CNsFosUh7f0j"
      },
      "source": [
        "The `logs` dictionary stores the loss value, along with all of the metrics we are using at the end of a batch or epoch.\n",
        "\n",
        "We can incorporate information from the `logs` dictionary into our own custom callbacks.\n",
        "\n",
        "Let's see this in action in the context of a model we will construct and fit to the `sklearn` diabetes dataset that we have been using in this module.\n",
        "\n",
        "Let's first import the dataset, and split it into the training and test sets."
      ]
    },
    {
      "cell_type": "code",
      "execution_count": 2,
      "metadata": {
        "id": "zF8odRy67f0k"
      },
      "outputs": [],
      "source": [
        "# Load the diabetes dataset\n",
        "\n",
        "from sklearn.datasets import load_diabetes\n",
        "\n",
        "diabetes_dataset = load_diabetes()"
      ]
    },
    {
      "cell_type": "code",
      "execution_count": 3,
      "metadata": {
        "id": "GRQ5ifMY7f0l"
      },
      "outputs": [],
      "source": [
        "# Save the input and target variables\n",
        "\n",
        "from sklearn.model_selection import train_test_split\n",
        "\n",
        "data = diabetes_dataset['data']\n",
        "targets = diabetes_dataset['target']"
      ]
    },
    {
      "cell_type": "code",
      "execution_count": 4,
      "metadata": {
        "id": "4r0awyYN7f0m"
      },
      "outputs": [],
      "source": [
        "# Split the data set into training and test sets\n",
        "\n",
        "train_data, test_data, train_targets, test_targets = train_test_split(data, targets, test_size=0.1)"
      ]
    },
    {
      "cell_type": "markdown",
      "metadata": {
        "id": "l_BvibI67f0m"
      },
      "source": [
        "Now we construct our model."
      ]
    },
    {
      "cell_type": "code",
      "execution_count": 5,
      "metadata": {
        "id": "Gg08NRTb7f0n"
      },
      "outputs": [],
      "source": [
        "# Build the model\n",
        "\n",
        "from tensorflow.keras.models import Sequential\n",
        "from tensorflow.keras.layers import Dense\n",
        "\n",
        "model = tf.keras.Sequential([\n",
        "    Dense(128, activation='relu', input_shape=(train_data.shape[1],)),\n",
        "    Dense(64,activation='relu'),\n",
        "    tf.keras.layers.BatchNormalization(),\n",
        "    Dense(64, activation='relu'),\n",
        "    Dense(64, activation='relu'),\n",
        "    Dense(1)        \n",
        "])"
      ]
    },
    {
      "cell_type": "markdown",
      "metadata": {
        "id": "coMS63JR7f0o"
      },
      "source": [
        "We now compile the model, with\n",
        "* Mean squared error as the loss function,\n",
        "* the Adam optimizer, and \n",
        "* Mean absolute error (`mae`) as a metric."
      ]
    },
    {
      "cell_type": "code",
      "execution_count": 6,
      "metadata": {
        "id": "Ra7VJL8X7f0o"
      },
      "outputs": [],
      "source": [
        "# Compile the model\n",
        "    \n",
        "model.compile(loss='mse', optimizer=\"adam\", metrics=['mae'])"
      ]
    },
    {
      "cell_type": "markdown",
      "metadata": {
        "id": "cxpEQx027f0p"
      },
      "source": [
        "### Defining a custom callback\n",
        "\n",
        "Now we define our custom callback using the `logs` dictionary to access the loss and metric values."
      ]
    },
    {
      "cell_type": "code",
      "execution_count": 7,
      "metadata": {
        "id": "0EwdxNV77f0p"
      },
      "outputs": [],
      "source": [
        "# Create the custom callback\n",
        "\n",
        "class LossAndMetricCallback(tf.keras.callbacks.Callback):\n",
        "\n",
        "    # Print the loss after every second batch in the training set\n",
        "    def on_train_batch_end(self, batch, logs=None):\n",
        "        if batch %2 ==0:\n",
        "            print('\\n After batch {}, the loss is {:7.2f}.'.format(batch, logs['loss']))\n",
        "    \n",
        "    # Print the loss after each batch in the test set\n",
        "    def on_test_batch_end(self, batch, logs=None):\n",
        "        print('\\n After batch {}, the loss is {:7.2f}.'.format(batch, logs['loss']))\n",
        "\n",
        "    # Print the loss and mean absolute error after each epoch\n",
        "    def on_epoch_end(self, epoch, logs=None):\n",
        "        print('Epoch {}: Average loss is {:7.2f}, mean absolute error is {:7.2f}.'.format(epoch, logs['loss'], logs['mae']))\n",
        "    \n",
        "    # Notify the user when prediction has finished on each batch\n",
        "    def on_predict_batch_end(self,batch, logs=None):\n",
        "        print(\"Finished prediction on batch {}!\".format(batch))"
      ]
    },
    {
      "cell_type": "markdown",
      "metadata": {
        "id": "-N_NI5P-7f0q"
      },
      "source": [
        "We now fit the model to the data, and specify that we would like to use our custom callback `LossAndMetricCallback()`."
      ]
    },
    {
      "cell_type": "code",
      "execution_count": 8,
      "metadata": {
        "colab": {
          "base_uri": "https://localhost:8080/"
        },
        "id": "B8WPIK_p7f0r",
        "outputId": "8e16f192-0110-4b6c-b2b7-230615187290"
      },
      "outputs": [
        {
          "output_type": "stream",
          "name": "stdout",
          "text": [
            "\n",
            " After batch 0, the loss is 28505.59.\n",
            "\n",
            " After batch 2, the loss is 28891.80.\n",
            "Epoch 0: Average loss is 28990.97, mean absolute error is  151.48.\n",
            "\n",
            " After batch 0, the loss is 29438.08.\n",
            "\n",
            " After batch 2, the loss is 28949.21.\n",
            "Epoch 1: Average loss is 28881.06, mean absolute error is  151.14.\n",
            "\n",
            " After batch 0, the loss is 26930.69.\n",
            "\n",
            " After batch 2, the loss is 29487.12.\n",
            "Epoch 2: Average loss is 28730.35, mean absolute error is  150.65.\n",
            "\n",
            " After batch 0, the loss is 29614.46.\n",
            "\n",
            " After batch 2, the loss is 29367.97.\n",
            "Epoch 3: Average loss is 28510.63, mean absolute error is  149.95.\n",
            "\n",
            " After batch 0, the loss is 29303.73.\n",
            "\n",
            " After batch 2, the loss is 27916.46.\n",
            "Epoch 4: Average loss is 28198.99, mean absolute error is  148.96.\n",
            "\n",
            " After batch 0, the loss is 27219.71.\n",
            "\n",
            " After batch 2, the loss is 27541.12.\n",
            "Epoch 5: Average loss is 27767.20, mean absolute error is  147.59.\n",
            "\n",
            " After batch 0, the loss is 24272.62.\n",
            "\n",
            " After batch 2, the loss is 27313.26.\n",
            "Epoch 6: Average loss is 27180.05, mean absolute error is  145.75.\n",
            "\n",
            " After batch 0, the loss is 31703.53.\n",
            "\n",
            " After batch 2, the loss is 25581.32.\n",
            "Epoch 7: Average loss is 26437.71, mean absolute error is  143.38.\n",
            "\n",
            " After batch 0, the loss is 29134.55.\n",
            "\n",
            " After batch 2, the loss is 24454.39.\n",
            "Epoch 8: Average loss is 25424.71, mean absolute error is  140.11.\n",
            "\n",
            " After batch 0, the loss is 24748.95.\n",
            "\n",
            " After batch 2, the loss is 23780.79.\n",
            "Epoch 9: Average loss is 24183.54, mean absolute error is  136.10.\n",
            "\n",
            " After batch 0, the loss is 24998.12.\n",
            "\n",
            " After batch 2, the loss is 22725.37.\n",
            "Epoch 10: Average loss is 22742.50, mean absolute error is  131.00.\n",
            "\n",
            " After batch 0, the loss is 17478.45.\n",
            "\n",
            " After batch 2, the loss is 19139.90.\n",
            "Epoch 11: Average loss is 21021.02, mean absolute error is  124.83.\n",
            "\n",
            " After batch 0, the loss is 23939.46.\n",
            "\n",
            " After batch 2, the loss is 19605.80.\n",
            "Epoch 12: Average loss is 19027.31, mean absolute error is  117.24.\n",
            "\n",
            " After batch 0, the loss is 21401.04.\n",
            "\n",
            " After batch 2, the loss is 17471.75.\n",
            "Epoch 13: Average loss is 16892.54, mean absolute error is  108.65.\n",
            "\n",
            " After batch 0, the loss is 14016.72.\n",
            "\n",
            " After batch 2, the loss is 15216.03.\n",
            "Epoch 14: Average loss is 14644.32, mean absolute error is   99.32.\n",
            "\n",
            " After batch 0, the loss is 11802.66.\n",
            "\n",
            " After batch 2, the loss is 12657.60.\n",
            "Epoch 15: Average loss is 12440.90, mean absolute error is   89.53.\n",
            "\n",
            " After batch 0, the loss is 9685.10.\n",
            "\n",
            " After batch 2, the loss is 11273.34.\n",
            "Epoch 16: Average loss is 10559.35, mean absolute error is   81.02.\n",
            "\n",
            " After batch 0, the loss is 10716.50.\n",
            "\n",
            " After batch 2, the loss is 9153.42.\n",
            "Epoch 17: Average loss is 8739.54, mean absolute error is   72.97.\n",
            "\n",
            " After batch 0, the loss is 8681.30.\n",
            "\n",
            " After batch 2, the loss is 7742.87.\n",
            "Epoch 18: Average loss is 7444.78, mean absolute error is   66.79.\n",
            "\n",
            " After batch 0, the loss is 6687.83.\n",
            "\n",
            " After batch 2, the loss is 6545.84.\n",
            "Epoch 19: Average loss is 6613.39, mean absolute error is   63.72.\n"
          ]
        }
      ],
      "source": [
        "# Train the model\n",
        "\n",
        "history = model.fit(train_data, train_targets, epochs=20,\n",
        "                    batch_size=100, callbacks=[LossAndMetricCallback()], verbose=False)"
      ]
    },
    {
      "cell_type": "markdown",
      "metadata": {
        "id": "l2Zv61Xi7f0r"
      },
      "source": [
        "We can also use our callback in the `evaluate` function..."
      ]
    },
    {
      "cell_type": "code",
      "execution_count": 9,
      "metadata": {
        "colab": {
          "base_uri": "https://localhost:8080/"
        },
        "id": "gSBCFzlp7f0r",
        "outputId": "66b2c31c-a922-43a5-c5bc-9d6c255eda6f"
      },
      "outputs": [
        {
          "output_type": "stream",
          "name": "stdout",
          "text": [
            "\n",
            " After batch 0, the loss is 14529.01.\n",
            "\n",
            " After batch 1, the loss is 21436.71.\n",
            "\n",
            " After batch 2, the loss is 19336.49.\n",
            "\n",
            " After batch 3, the loss is 19854.54.\n",
            "\n",
            " After batch 4, the loss is 20606.61.\n"
          ]
        }
      ],
      "source": [
        "# Evaluate the model\n",
        "\n",
        "model_eval = model.evaluate(test_data, test_targets, batch_size=10, \n",
        "                            callbacks=[LossAndMetricCallback()], verbose=False)"
      ]
    },
    {
      "cell_type": "markdown",
      "metadata": {
        "id": "IBeBXz0J7f0s"
      },
      "source": [
        "...And also the `predict` function."
      ]
    },
    {
      "cell_type": "code",
      "execution_count": 10,
      "metadata": {
        "colab": {
          "base_uri": "https://localhost:8080/"
        },
        "id": "xc9OLU-f7f0s",
        "outputId": "670af375-9221-48c3-9dd7-2f03ec3fd52f"
      },
      "outputs": [
        {
          "output_type": "stream",
          "name": "stdout",
          "text": [
            "Finished prediction on batch 0!\n",
            "Finished prediction on batch 1!\n",
            "Finished prediction on batch 2!\n",
            "Finished prediction on batch 3!\n",
            "Finished prediction on batch 4!\n"
          ]
        }
      ],
      "source": [
        "# Get predictions from the model\n",
        "\n",
        "model_pred = model.predict(test_data, batch_size=10,\n",
        "                           callbacks=[LossAndMetricCallback()], verbose=False)"
      ]
    },
    {
      "cell_type": "markdown",
      "metadata": {
        "id": "DqLtnIkQ7f0s"
      },
      "source": [
        "### Application - learning rate scheduler\n",
        "Let's now look at a more sophisticated custom callback. \n",
        "\n",
        "We are going to define a callback to change the learning rate of the optimiser of a model during training. We will do this by specifying the epochs and new learning rates where we would like it to be changed.\n",
        "\n",
        "First we define the auxillary function that returns the learning rate for each epoch based on our schedule."
      ]
    },
    {
      "cell_type": "code",
      "execution_count": 11,
      "metadata": {
        "id": "zDNRiGbV7f0t"
      },
      "outputs": [],
      "source": [
        "# Define the learning rate schedule. The tuples below are (start_epoch, new_learning_rate)\n",
        "\n",
        "lr_schedule = [\n",
        "    (4, 0.03), (7, 0.02), (11, 0.005), (15, 0.007)\n",
        "]\n",
        "\n",
        "def get_new_epoch_lr(epoch, lr):\n",
        "    # Checks to see if the input epoch is listed in the learning rate schedule \n",
        "    # and if so, returns index in lr_schedule\n",
        "    epoch_in_sched = [i for i in range(len(lr_schedule)) if lr_schedule[i][0]==int(epoch)]\n",
        "    if len(epoch_in_sched)>0:\n",
        "        # If it is, return the learning rate corresponding to the epoch\n",
        "        return lr_schedule[epoch_in_sched[0]][1]\n",
        "    else:\n",
        "        # Otherwise, return the existing learning rate\n",
        "        return lr"
      ]
    },
    {
      "cell_type": "markdown",
      "metadata": {
        "id": "tUPtnRzc7f0t"
      },
      "source": [
        "Let's now define the callback itself."
      ]
    },
    {
      "cell_type": "code",
      "execution_count": 12,
      "metadata": {
        "id": "HiouQ0iI7f0t"
      },
      "outputs": [],
      "source": [
        "# Define the custom callback\n",
        "\n",
        "class LRScheduler(tf.keras.callbacks.Callback):\n",
        "    \n",
        "    def __init__(self, new_lr):\n",
        "        super(LRScheduler, self).__init__()\n",
        "        # Add the new learning rate function to our callback\n",
        "        self.new_lr = new_lr\n",
        "\n",
        "    def on_epoch_begin(self, epoch, logs=None):\n",
        "        # Make sure that the optimizer we have chosen has a learning rate, and raise an error if not\n",
        "        if not hasattr(self.model.optimizer, 'lr'):\n",
        "              raise ValueError('Error: Optimizer does not have a learning rate.')\n",
        "                \n",
        "        # Get the current learning rate\n",
        "        curr_rate = float(tf.keras.backend.get_value(self.model.optimizer.lr))\n",
        "        \n",
        "        # Call the auxillary function to get the scheduled learning rate for the current epoch\n",
        "        scheduled_rate = self.new_lr(epoch, curr_rate)\n",
        "\n",
        "        # Set the learning rate to the scheduled learning rate\n",
        "        tf.keras.backend.set_value(self.model.optimizer.lr, scheduled_rate)\n",
        "        print('Learning rate for epoch {} is {:7.3f}'.format(epoch, scheduled_rate))"
      ]
    },
    {
      "cell_type": "markdown",
      "metadata": {
        "id": "d9L2J-ML7f0t"
      },
      "source": [
        "Let's now train the model again with our new callback. "
      ]
    },
    {
      "cell_type": "code",
      "execution_count": 13,
      "metadata": {
        "id": "uRwtNknR7f0u"
      },
      "outputs": [],
      "source": [
        "# Build the same model as before\n",
        "\n",
        "new_model = tf.keras.Sequential([\n",
        "    Dense(128, activation='relu', input_shape=(train_data.shape[1],)),\n",
        "    Dense(64,activation='relu'),\n",
        "    tf.keras.layers.BatchNormalization(),\n",
        "    Dense(64, activation='relu'),\n",
        "    Dense(64, activation='relu'),\n",
        "    Dense(1)        \n",
        "])"
      ]
    },
    {
      "cell_type": "code",
      "execution_count": 14,
      "metadata": {
        "id": "rr11idij7f0u"
      },
      "outputs": [],
      "source": [
        "# Compile the model\n",
        "\n",
        "new_model.compile(loss='mse',\n",
        "                optimizer=\"adam\",\n",
        "                metrics=['mae', 'mse'])"
      ]
    },
    {
      "cell_type": "code",
      "execution_count": 15,
      "metadata": {
        "colab": {
          "base_uri": "https://localhost:8080/"
        },
        "id": "Fble13Jn7f0u",
        "outputId": "27294062-0e8e-483a-a089-8b0ffa6254e9"
      },
      "outputs": [
        {
          "output_type": "stream",
          "name": "stdout",
          "text": [
            "Learning rate for epoch 0 is   0.001\n",
            "Learning rate for epoch 1 is   0.001\n",
            "Learning rate for epoch 2 is   0.001\n",
            "Learning rate for epoch 3 is   0.001\n",
            "Learning rate for epoch 4 is   0.030\n",
            "Learning rate for epoch 5 is   0.030\n",
            "Learning rate for epoch 6 is   0.030\n",
            "Learning rate for epoch 7 is   0.020\n",
            "Learning rate for epoch 8 is   0.020\n",
            "Learning rate for epoch 9 is   0.020\n",
            "Learning rate for epoch 10 is   0.020\n",
            "Learning rate for epoch 11 is   0.005\n",
            "Learning rate for epoch 12 is   0.005\n",
            "Learning rate for epoch 13 is   0.005\n",
            "Learning rate for epoch 14 is   0.005\n",
            "Learning rate for epoch 15 is   0.007\n",
            "Learning rate for epoch 16 is   0.007\n",
            "Learning rate for epoch 17 is   0.007\n",
            "Learning rate for epoch 18 is   0.007\n",
            "Learning rate for epoch 19 is   0.007\n"
          ]
        }
      ],
      "source": [
        "# Fit the model with our learning rate scheduler callback\n",
        "\n",
        "new_history = new_model.fit(train_data, train_targets, epochs=20,\n",
        "                            batch_size=100, callbacks=[LRScheduler(get_new_epoch_lr)], verbose=False)"
      ]
    },
    {
      "cell_type": "markdown",
      "metadata": {
        "id": "E3Y-GO167f0u"
      },
      "source": [
        "### Further reading and resources\n",
        "* https://www.tensorflow.org/guide/keras/custom_callback\n",
        "* https://www.tensorflow.org/api_docs/python/tf/keras/callbacks/Callback"
      ]
    }
  ],
  "metadata": {
    "kernelspec": {
      "display_name": "Python 3",
      "language": "python",
      "name": "python3"
    },
    "language_info": {
      "codemirror_mode": {
        "name": "ipython",
        "version": 3
      },
      "file_extension": ".py",
      "mimetype": "text/x-python",
      "name": "python",
      "nbconvert_exporter": "python",
      "pygments_lexer": "ipython3",
      "version": "3.7.1"
    },
    "colab": {
      "provenance": [],
      "include_colab_link": true
    }
  },
  "nbformat": 4,
  "nbformat_minor": 0
}